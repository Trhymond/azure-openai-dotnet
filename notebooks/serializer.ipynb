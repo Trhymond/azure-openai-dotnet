{
 "cells": [
  {
   "cell_type": "code",
   "execution_count": 22,
   "metadata": {
    "dotnet_interactive": {
     "language": "csharp"
    },
    "polyglot_notebook": {
     "kernelName": "csharp"
    },
    "vscode": {
     "languageId": "polyglot-notebook"
    }
   },
   "outputs": [
    {
     "data": {
      "text/html": [
       "<div><div></div><div></div><div><strong>Installed Packages</strong><ul><li><span>Newtonsoft.Json, 13.0.3</span></li></ul></div></div>"
      ]
     },
     "metadata": {},
     "output_type": "display_data"
    },
    {
     "name": "stdout",
     "output_type": "stream",
     "text": [
      "What is included in my Northwind Health Plus plan that is not in standard?\n",
      "ReadDecomposeAsk\n",
      "RequestOverrides { SemanticRanker = True, SemanticCaptions = False, ExcludeCategory = , Top = 13, Temperature = , PromptTemplate = , PromptTemplatePrefix = , PromptTemplateSuffix = , SuggestFollowupQuestions = True }\n"
     ]
    }
   ],
   "source": [
    "#r \"nuget: Newtonsoft.Json, 13.0.3\"\n",
    "\n",
    "using System.Runtime.Serialization;\n",
    "using Newtonsoft.Json;\n",
    "\n",
    "class AskRequest {    \n",
    "    public string Question {get; set;}\n",
    "    public Approach Approach {get; set;}\n",
    "    public RequestOverrides? Overrides { get; set; }\n",
    "}\n",
    "\n",
    "enum Approach {        \n",
    "    [EnumMember(Value = \"rtr\")]\n",
    "    RetrieveThenRead,\n",
    "    [EnumMember(Value = \"rrr\")]    \n",
    "    ReadRetrieveRead,\n",
    "    [EnumMember(Value = \"rda\")]    \n",
    "    ReadDecomposeAsk\n",
    "}\n",
    "\n",
    "public record RequestOverrides\n",
    "{\n",
    "    [JsonProperty(\"semantic_ranker\")]\n",
    "    public bool SemanticRanker { get; set; } = true;\n",
    "    [JsonProperty(\"semantic_captions\")]\n",
    "    public bool? SemanticCaptions { get; set; } = true;\n",
    "    [JsonProperty(\"exclude_category\")]\n",
    "    public string? ExcludeCategory { get; set; } = \"\";\n",
    "    [JsonProperty(\"top\")]\n",
    "    public int? Top { get; set; } = 3;\n",
    "    [JsonProperty(\"temerature\")]\n",
    "    public int? Temperature { get; set; }\n",
    "    [JsonProperty(\"prompt_template\")]\n",
    "    public string? PromptTemplate { get; set; } = \"\";\n",
    "    [JsonProperty(\"prompt_template_prefix\")]\n",
    "    public string? PromptTemplatePrefix { get; set; } = \"\";\n",
    "    [JsonProperty(\"prompt_template_suffix\")]\n",
    "    public string? PromptTemplateSuffix { get; set; } = \"\";\n",
    "    [JsonProperty(\"suggest_followup_questions\")]\n",
    "    public bool SuggestFollowupQuestions { get; set; } = true;\n",
    "}\n",
    "\n",
    "string jsonString = @\"\n",
    "{\n",
    "    'question': 'What is included in my Northwind Health Plus plan that is not in standard?',\n",
    "    'approach': 'rda',\n",
    "    'overrides': {\n",
    "        'semantic_ranker': true,\n",
    "        'semantic_captions': false,\n",
    "        'top': 13\n",
    "    }\n",
    "}\n",
    "\";\n",
    "\n",
    "AskRequest result = (AskRequest) Newtonsoft.Json.JsonConvert.DeserializeObject(jsonString, typeof(AskRequest));\n",
    "\n",
    "Console.WriteLine(result.Question);\n",
    "Console.WriteLine(result.Approach);\n",
    "Console.WriteLine(result.Overrides);\n"
   ]
  }
 ],
 "metadata": {
  "language_info": {
   "name": "python"
  },
  "orig_nbformat": 4
 },
 "nbformat": 4,
 "nbformat_minor": 2
}
